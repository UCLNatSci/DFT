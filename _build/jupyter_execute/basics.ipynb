{
 "cells": [
  {
   "cell_type": "markdown",
   "id": "95cab5eb",
   "metadata": {},
   "source": [
    "(section_introduction_to_graphs)=\n",
    "# Homework\n",
    "\n",
    "Use the computational techniques you have studied this week to answer the following question and submit your answers as a single .py file.\n",
    "\n",
    "1\\. Find the energy levels for the quantum harmonic osicllator using the matrix ODE methods, here $V = -\\frac{1}{2}m \\omega^2\\,x^2$.\n",
    "\n",
    "2\\. Plot the first three (eigen) wave functions on a graph\n",
    "\n",
    "3\\. Show that (to a threshold accuracy) the solutions are orthogonal and find this threshold.\n",
    "\n",
    "\n",
    "## References\n",
    "\n",
    "[1] James R. Chelikowsky, *Introductory Quantum Mechanics with MATLAB®: For Atoms, Molecules, Clusters, and Nanocrystals*. Wiley Press, 2019.\n",
    "\n",
    "[2] David S. Sholl; Janice A. Steckel, *Density Functional Theory*. Wiley Press, 2009."
   ]
  }
 ],
 "metadata": {
  "jupytext": {
   "formats": "md:myst",
   "text_representation": {
    "extension": ".md",
    "format_name": "myst",
    "format_version": 0.13,
    "jupytext_version": "1.10.3"
   }
  },
  "kernelspec": {
   "display_name": "Python 3",
   "language": "python",
   "name": "python3"
  },
  "language_info": {
   "codemirror_mode": {
    "name": "ipython",
    "version": 3
   },
   "file_extension": ".py",
   "mimetype": "text/x-python",
   "name": "python",
   "nbconvert_exporter": "python",
   "pygments_lexer": "ipython3",
   "version": "3.7.11"
  },
  "source_map": [
   13
  ]
 },
 "nbformat": 4,
 "nbformat_minor": 5
}